{
  "nbformat": 4,
  "nbformat_minor": 0,
  "metadata": {
    "colab": {
      "provenance": []
    },
    "kernelspec": {
      "name": "python3",
      "display_name": "Python 3"
    },
    "language_info": {
      "name": "python"
    }
  },
  "cells": [
    {
      "cell_type": "code",
      "execution_count": 1,
      "metadata": {
        "colab": {
          "base_uri": "https://localhost:8080/"
        },
        "id": "YYbOmSFU1sMQ",
        "outputId": "5cf29d03-8f27-486e-cf96-89451ec1cd0b"
      },
      "outputs": [
        {
          "output_type": "stream",
          "name": "stdout",
          "text": [
            "Requirement already satisfied: pandas in /usr/local/lib/python3.11/dist-packages (2.2.2)\n",
            "Requirement already satisfied: numpy>=1.23.2 in /usr/local/lib/python3.11/dist-packages (from pandas) (1.26.4)\n",
            "Requirement already satisfied: python-dateutil>=2.8.2 in /usr/local/lib/python3.11/dist-packages (from pandas) (2.8.2)\n",
            "Requirement already satisfied: pytz>=2020.1 in /usr/local/lib/python3.11/dist-packages (from pandas) (2025.1)\n",
            "Requirement already satisfied: tzdata>=2022.7 in /usr/local/lib/python3.11/dist-packages (from pandas) (2025.1)\n",
            "Requirement already satisfied: six>=1.5 in /usr/local/lib/python3.11/dist-packages (from python-dateutil>=2.8.2->pandas) (1.17.0)\n"
          ]
        }
      ],
      "source": [
        "!pip install pandas"
      ]
    },
    {
      "cell_type": "code",
      "source": [
        "\n",
        "import pandas as pd\n",
        "\n",
        "\n",
        "url = \"https://raw.githubusercontent.com/gazzola/pima_dataset/main/diabetes.csv\"\n",
        "\n",
        "df = pd.read_csv(url)\n",
        "\n",
        "print(\"Primeiras linhas do DataFrame:\")\n",
        "print(df.head())\n",
        "\n",
        "print(\"\\nInformações sobre o DataFrame:\")\n",
        "print(df.info())\n",
        "\n",
        "print(\"\\nEstatísticas descritivas do DataFrame:\")\n",
        "print(df.describe())\n",
        "\n",
        "num_linhas, num_colunas = df.shape\n",
        "print(f\"\\nQuantidade de linhas: {num_linhas}\")\n",
        "print(f\"Quantidade de colunas: {num_colunas}\")\n",
        "\n",
        "df.columns = [\n",
        "    'Número de Gravidez',\n",
        "    'Concentração de Glucose',\n",
        "    'Pressão Arterial',\n",
        "    'Espessura da Pele',\n",
        "    'Insulina',\n",
        "    'Índice de Massa Corporal',\n",
        "    'Histórico Familiar de Diabetes',\n",
        "    'Idade',\n",
        "    'Resultado'\n",
        "]\n",
        "\n",
        "print(\"\\nDataFrame após renomear as colunas:\")\n",
        "print(df.head())"
      ],
      "metadata": {
        "colab": {
          "base_uri": "https://localhost:8080/"
        },
        "id": "FAJsQisE1ym6",
        "outputId": "a44f0742-7eb4-43ab-967c-7918f6490e00"
      },
      "execution_count": 2,
      "outputs": [
        {
          "output_type": "stream",
          "name": "stdout",
          "text": [
            "Primeiras linhas do DataFrame:\n",
            "   Pregnancies  Glucose  BloodPressure  SkinThickness  Insulin   BMI  \\\n",
            "0            6      148             72             35        0  33.6   \n",
            "1            1       85             66             29        0  26.6   \n",
            "2            8      183             64              0        0  23.3   \n",
            "3            1       89             66             23       94  28.1   \n",
            "4            0      137             40             35      168  43.1   \n",
            "\n",
            "   DiabetesPedigreeFunction  Age  Outcome  \n",
            "0                     0.627   50        1  \n",
            "1                     0.351   31        0  \n",
            "2                     0.672   32        1  \n",
            "3                     0.167   21        0  \n",
            "4                     2.288   33        1  \n",
            "\n",
            "Informações sobre o DataFrame:\n",
            "<class 'pandas.core.frame.DataFrame'>\n",
            "RangeIndex: 768 entries, 0 to 767\n",
            "Data columns (total 9 columns):\n",
            " #   Column                    Non-Null Count  Dtype  \n",
            "---  ------                    --------------  -----  \n",
            " 0   Pregnancies               768 non-null    int64  \n",
            " 1   Glucose                   768 non-null    int64  \n",
            " 2   BloodPressure             768 non-null    int64  \n",
            " 3   SkinThickness             768 non-null    int64  \n",
            " 4   Insulin                   768 non-null    int64  \n",
            " 5   BMI                       768 non-null    float64\n",
            " 6   DiabetesPedigreeFunction  768 non-null    float64\n",
            " 7   Age                       768 non-null    int64  \n",
            " 8   Outcome                   768 non-null    int64  \n",
            "dtypes: float64(2), int64(7)\n",
            "memory usage: 54.1 KB\n",
            "None\n",
            "\n",
            "Estatísticas descritivas do DataFrame:\n",
            "       Pregnancies     Glucose  BloodPressure  SkinThickness     Insulin  \\\n",
            "count   768.000000  768.000000     768.000000     768.000000  768.000000   \n",
            "mean      3.845052  120.894531      69.105469      20.536458   79.799479   \n",
            "std       3.369578   31.972618      19.355807      15.952218  115.244002   \n",
            "min       0.000000    0.000000       0.000000       0.000000    0.000000   \n",
            "25%       1.000000   99.000000      62.000000       0.000000    0.000000   \n",
            "50%       3.000000  117.000000      72.000000      23.000000   30.500000   \n",
            "75%       6.000000  140.250000      80.000000      32.000000  127.250000   \n",
            "max      17.000000  199.000000     122.000000      99.000000  846.000000   \n",
            "\n",
            "              BMI  DiabetesPedigreeFunction         Age     Outcome  \n",
            "count  768.000000                768.000000  768.000000  768.000000  \n",
            "mean    31.992578                  0.471876   33.240885    0.348958  \n",
            "std      7.884160                  0.331329   11.760232    0.476951  \n",
            "min      0.000000                  0.078000   21.000000    0.000000  \n",
            "25%     27.300000                  0.243750   24.000000    0.000000  \n",
            "50%     32.000000                  0.372500   29.000000    0.000000  \n",
            "75%     36.600000                  0.626250   41.000000    1.000000  \n",
            "max     67.100000                  2.420000   81.000000    1.000000  \n",
            "\n",
            "Quantidade de linhas: 768\n",
            "Quantidade de colunas: 9\n",
            "\n",
            "DataFrame após renomear as colunas:\n",
            "   Número de Gravidez  Concentração de Glucose  Pressão Arterial  \\\n",
            "0                   6                      148                72   \n",
            "1                   1                       85                66   \n",
            "2                   8                      183                64   \n",
            "3                   1                       89                66   \n",
            "4                   0                      137                40   \n",
            "\n",
            "   Espessura da Pele  Insulina  Índice de Massa Corporal  \\\n",
            "0                 35         0                      33.6   \n",
            "1                 29         0                      26.6   \n",
            "2                  0         0                      23.3   \n",
            "3                 23        94                      28.1   \n",
            "4                 35       168                      43.1   \n",
            "\n",
            "   Histórico Familiar de Diabetes  Idade  Resultado  \n",
            "0                           0.627     50          1  \n",
            "1                           0.351     31          0  \n",
            "2                           0.672     32          1  \n",
            "3                           0.167     21          0  \n",
            "4                           2.288     33          1  \n"
          ]
        }
      ]
    }
  ]
}